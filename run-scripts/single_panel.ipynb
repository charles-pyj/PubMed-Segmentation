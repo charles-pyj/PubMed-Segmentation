{
 "cells": [
  {
   "cell_type": "code",
   "execution_count": 1,
   "metadata": {},
   "outputs": [
    {
     "name": "stderr",
     "output_type": "stream",
     "text": [
      "/home/panyijun/miniconda3/envs/figureClass/lib/python3.9/site-packages/tqdm/auto.py:21: TqdmWarning: IProgress not found. Please update jupyter and ipywidgets. See https://ipywidgets.readthedocs.io/en/stable/user_install.html\n",
      "  from .autonotebook import tqdm as notebook_tqdm\n"
     ]
    }
   ],
   "source": [
    "import json\n",
    "import pandas as pd\n",
    "import torch"
   ]
  },
  {
   "cell_type": "code",
   "execution_count": 15,
   "metadata": {},
   "outputs": [],
   "source": [
    "with open(\"/home/panyijun/PubMed-Segmentation/panel_cnt.json\",\"r\") as f:\n",
    "    panel_cnts = json.load(f)\n",
    "\n",
    "with open(\"/nfs/turbo/umms-drjieliu/proj/medlineKG/data/figure_json_by_article/pmcimage_paths.json\",\"r\") as f:\n",
    "    imgs = json.load(f)\n",
    "\n",
    "with open(\"/nfs/turbo/umms-drjieliu/proj/medlineKG/data/figure_json_by_article/pmcimage_captions.json\",\"r\") as f:\n",
    "    captions = json.load(f)"
   ]
  },
  {
   "cell_type": "code",
   "execution_count": 16,
   "metadata": {},
   "outputs": [
    {
     "name": "stdout",
     "output_type": "stream",
     "text": [
      "200000\n",
      "4331100\n",
      "4331100\n",
      "85165\n"
     ]
    }
   ],
   "source": [
    "print(len(panel_cnts))\n",
    "print(len(imgs))\n",
    "print(len(captions))\n",
    "single_indices = [i for i in range(len(panel_cnts)) if panel_cnts[i] == 1]\n",
    "print(len(single_indices))"
   ]
  },
  {
   "cell_type": "code",
   "execution_count": 17,
   "metadata": {},
   "outputs": [
    {
     "name": "stdout",
     "output_type": "stream",
     "text": [
      "6\n"
     ]
    }
   ],
   "source": []
  },
  {
   "cell_type": "code",
   "execution_count": 19,
   "metadata": {},
   "outputs": [
    {
     "name": "stdout",
     "output_type": "stream",
     "text": [
      "['https://openi.nlm.nih.gov/imgs/512/68/4664500/PMC4664500_dddt-9-6211Fig4.png', 'https://openi.nlm.nih.gov/imgs/512/68/4664500/PMC4664500_dddt-9-6211Fig5.png', 'https://openi.nlm.nih.gov/imgs/512/68/4664500/PMC4664500_dddt-9-6211Fig9.png', 'https://openi.nlm.nih.gov/imgs/512/69/4664501/PMC4664501_dddt-9-6235Fig1.png', 'https://openi.nlm.nih.gov/imgs/512/69/4664501/PMC4664501_dddt-9-6235Fig3.png']\n"
     ]
    }
   ],
   "source": [
    "single_panel_url = [imgs[i] for i in single_indices]\n",
    "single_panel_captions = [captions[i] for i in single_indices]\n",
    "with open(\"/home/panyijun/PubMed-Segmentation/single_panel_url.json\",'w') as f:\n",
    "    json.dump(single_panel_url,f)\n",
    "#multi_panel_captions = [captions[i] for i in range(len(captions)) if i not in single_indices]\n",
    "print(single_panel_url[-5:])"
   ]
  },
  {
   "cell_type": "code",
   "execution_count": 21,
   "metadata": {},
   "outputs": [
    {
     "name": "stdout",
     "output_type": "stream",
     "text": [
      "281.1366993483238\n",
      "491.4603089284477\n"
     ]
    }
   ],
   "source": [
    "import numpy as np\n",
    "print(np.mean([len(i) for i in single_panel_captions]))\n",
    "print(np.mean([len(i) for i in captions]))"
   ]
  }
 ],
 "metadata": {
  "kernelspec": {
   "display_name": "figureClass",
   "language": "python",
   "name": "python3"
  },
  "language_info": {
   "codemirror_mode": {
    "name": "ipython",
    "version": 3
   },
   "file_extension": ".py",
   "mimetype": "text/x-python",
   "name": "python",
   "nbconvert_exporter": "python",
   "pygments_lexer": "ipython3",
   "version": "3.9.19"
  }
 },
 "nbformat": 4,
 "nbformat_minor": 2
}
